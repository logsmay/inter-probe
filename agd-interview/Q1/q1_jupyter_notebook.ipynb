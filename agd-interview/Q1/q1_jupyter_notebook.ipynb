{
  "nbformat": 4,
  "nbformat_minor": 0,
  "metadata": {
    "colab": {
      "name": "Agoda DE Q&A.ipynb",
      "provenance": [],
      "collapsed_sections": []
    },
    "kernelspec": {
      "name": "python3",
      "display_name": "Python 3"
    },
    "language_info": {
      "name": "python"
    }
  },
  "cells": [
    {
      "cell_type": "code",
      "metadata": {
        "colab": {
          "base_uri": "https://localhost:8080/",
          "height": 3540
        },
        "collapsed": true,
        "cellView": "form",
        "id": "Dp38Py2BYkGW",
        "outputId": "73f90bb9-d659-42dd-fedd-f94dfb36275e"
      },
      "source": [
        "#@title\n",
        "#UPGRADE SQL LITE in COLAB\n",
        "#Link to CoLAB - https://colab.research.google.com/drive/1vsf_H57wp_8MZ4zFnFJf918pUHtPhBKV#scrollTo=Dp38Py2BYkGW\n",
        "!curl https://www.sqlite.org/src/tarball/sqlite.tar.gz?r=release | tar xz\n",
        "%cd sqlite/\n",
        "!./configure\n",
        "!make sqlite3.c\n",
        "%cd /content\n",
        "!npx degit coleifer/pysqlite3 -f\n",
        "!cp sqlite/sqlite3.[ch] .\n",
        "!python setup.py build_static build\n",
        "!cp build/lib.linux-x86_64-3.7/pysqlite3/_sqlite3.cpython-37m-x86_64-linux-gnu.so \\\n",
        "     /usr/lib/python3.7/lib-dynload/\n",
        "# then MENU: Runtime > Restart runtime ..."
      ],
      "execution_count": 19,
      "outputs": [
        {
          "output_type": "stream",
          "text": [
            "  % Total    % Received % Xferd  Average Speed   Time    Time     Time  Current\n",
            "                                 Dload  Upload   Total   Spent    Left  Speed\n",
            "100 10.7M  100 10.7M    0     0  8593k      0  0:00:01  0:00:01 --:--:-- 8600k\n",
            "/content/sqlite\n",
            "checking build system type... x86_64-pc-linux-gnu\n",
            "checking host system type... x86_64-pc-linux-gnu\n",
            "checking for gcc... gcc\n",
            "checking whether the C compiler works... yes\n",
            "checking for C compiler default output file name... a.out\n",
            "checking for suffix of executables... \n",
            "checking whether we are cross compiling... no\n",
            "checking for suffix of object files... o\n",
            "checking whether we are using the GNU C compiler... yes\n",
            "checking whether gcc accepts -g... yes\n",
            "checking for gcc option to accept ISO C89... none needed\n",
            "checking for a sed that does not truncate output... /bin/sed\n",
            "checking for grep that handles long lines and -e... /bin/grep\n",
            "checking for egrep... /bin/grep -E\n",
            "checking for fgrep... /bin/grep -F\n",
            "checking for ld used by gcc... /usr/bin/ld\n",
            "checking if the linker (/usr/bin/ld) is GNU ld... yes\n",
            "checking for BSD- or MS-compatible name lister (nm)... /usr/bin/nm -B\n",
            "checking the name lister (/usr/bin/nm -B) interface... BSD nm\n",
            "checking whether ln -s works... yes\n",
            "checking the maximum length of command line arguments... 1572864\n",
            "checking whether the shell understands some XSI constructs... yes\n",
            "checking whether the shell understands \"+=\"... yes\n",
            "checking for /usr/bin/ld option to reload object files... -r\n",
            "checking for objdump... objdump\n",
            "checking how to recognize dependent libraries... pass_all\n",
            "checking for ar... ar\n",
            "checking for strip... strip\n",
            "checking for ranlib... ranlib\n",
            "checking command to parse /usr/bin/nm -B output from gcc object... ok\n",
            "./configure: line 5196: /usr/bin/file: No such file or directory\n",
            "checking how to run the C preprocessor... gcc -E\n",
            "checking for ANSI C header files... yes\n",
            "checking for sys/types.h... yes\n",
            "checking for sys/stat.h... yes\n",
            "checking for stdlib.h... yes\n",
            "checking for string.h... yes\n",
            "checking for memory.h... yes\n",
            "checking for strings.h... yes\n",
            "checking for inttypes.h... yes\n",
            "checking for stdint.h... yes\n",
            "checking for unistd.h... yes\n",
            "checking for dlfcn.h... yes\n",
            "checking for objdir... .libs\n",
            "checking if gcc supports -fno-rtti -fno-exceptions... no\n",
            "checking for gcc option to produce PIC... -fPIC -DPIC\n",
            "checking if gcc PIC flag -fPIC -DPIC works... yes\n",
            "checking if gcc static flag -static works... yes\n",
            "checking if gcc supports -c -o file.o... yes\n",
            "checking if gcc supports -c -o file.o... (cached) yes\n",
            "checking whether the gcc linker (/usr/bin/ld) supports shared libraries... yes\n",
            "checking whether -lc should be explicitly linked in... no\n",
            "checking dynamic linker characteristics... GNU/Linux ld.so\n",
            "checking how to hardcode library paths into programs... immediate\n",
            "checking whether stripping libraries is possible... yes\n",
            "checking if libtool supports shared libraries... yes\n",
            "checking whether to build shared libraries... yes\n",
            "checking whether to build static libraries... yes\n",
            "checking for a BSD-compatible install... /usr/bin/install -c\n",
            "checking for special C compiler options needed for large files... no\n",
            "checking for _FILE_OFFSET_BITS value needed for large files... no\n",
            "checking for int8_t... yes\n",
            "checking for int16_t... yes\n",
            "checking for int32_t... yes\n",
            "checking for int64_t... yes\n",
            "checking for intptr_t... yes\n",
            "checking for uint8_t... yes\n",
            "checking for uint16_t... yes\n",
            "checking for uint32_t... yes\n",
            "checking for uint64_t... yes\n",
            "checking for uintptr_t... yes\n",
            "checking for sys/types.h... (cached) yes\n",
            "checking for stdlib.h... (cached) yes\n",
            "checking for stdint.h... (cached) yes\n",
            "checking for inttypes.h... (cached) yes\n",
            "checking malloc.h usability... yes\n",
            "checking malloc.h presence... yes\n",
            "checking for malloc.h... yes\n",
            "checking for fdatasync... yes\n",
            "checking for gmtime_r... yes\n",
            "checking for isnan... yes\n",
            "checking for localtime_r... yes\n",
            "checking for localtime_s... no\n",
            "checking for malloc_usable_size... yes\n",
            "checking for strchrnul... yes\n",
            "checking for usleep... yes\n",
            "checking for utime... yes\n",
            "checking for pread... yes\n",
            "checking for pread64... yes\n",
            "checking for pwrite... yes\n",
            "checking for pwrite64... yes\n",
            "checking for tclsh8.7... no\n",
            "checking for tclsh8.6... tclsh8.6\n",
            "configure: Version set to 3.35\n",
            "configure: Release set to 3.35.3\n",
            "checking whether to support threadsafe operation... yes\n",
            "checking for library containing pthread_create... -lpthread\n",
            "checking for library containing pthread_mutexattr_init... none required\n",
            "checking whether to support shared library linked as release mode or not... no\n",
            "checking whether to use an in-ram database for temporary tables... no\n",
            "checking if executables have the .exe suffix... unknown\n",
            "checking for Tcl configuration... found /usr/lib/tclConfig.sh\n",
            "checking for existence of /usr/lib/tclConfig.sh... loading\n",
            "checking for library containing readline... no\n",
            "checking for library containing tgetent... -lncurses\n",
            "checking for readline in -lreadline... yes\n",
            "checking readline.h usability... no\n",
            "checking readline.h presence... no\n",
            "checking for readline.h... no\n",
            "checking for /usr/include/readline.h... no\n",
            "checking for /usr/include/readline/readline.h... yes\n",
            "checking for library containing fdatasync... none required\n",
            "checking build type... release\n",
            "checking zlib.h usability... yes\n",
            "checking zlib.h presence... yes\n",
            "checking for zlib.h... yes\n",
            "checking for library containing deflate... -lz\n",
            "checking for library containing dlopen... -ldl\n",
            "checking whether to support math functions... yes\n",
            "checking for library containing ceil... -lm\n",
            "checking whether to support MEMSYS5... no\n",
            "checking whether to support MEMSYS3... no\n",
            "checking whether to support FTS3... no\n",
            "checking whether to support FTS4... no\n",
            "checking whether to support FTS5... no\n",
            "checking whether to support JSON... no\n",
            "checking whether to support LIMIT on UPDATE and DELETE statements... no\n",
            "checking whether to support GEOPOLY... no\n",
            "checking whether to support RTREE... no\n",
            "checking whether to support SESSION... no\n",
            "configure: creating ./config.status\n",
            "config.status: creating Makefile\n",
            "config.status: creating sqlite3.pc\n",
            "config.status: creating config.h\n",
            "config.status: executing libtool commands\n",
            "gcc  -g -O2 -o mkkeywordhash -DSQLITE_ENABLE_MATH_FUNCTIONS  /content/sqlite/tool/mkkeywordhash.c\n",
            "./mkkeywordhash >keywordhash.h\n",
            "gcc  -g -O2 -o lemon /content/sqlite/tool/lemon.c\n",
            "cp /content/sqlite/tool/lempar.c .\n",
            "cp /content/sqlite/src/parse.y .\n",
            "./lemon -DSQLITE_ENABLE_MATH_FUNCTIONS  -S parse.y\n",
            "cat parse.h /content/sqlite/src/vdbe.c | tclsh8.6 /content/sqlite/tool/mkopcodeh.tcl >opcodes.h\n",
            "tclsh8.6 /content/sqlite/tool/mkopcodec.tcl opcodes.h >opcodes.c\n",
            "tclsh8.6 /content/sqlite/tool/mkshellc.tcl >shell.c\n",
            "gcc  -g -O2 -o mksourceid /content/sqlite/tool/mksourceid.c\n",
            "tclsh8.6 /content/sqlite/tool/mksqlite3h.tcl /content/sqlite >sqlite3.h\n",
            "cp /content/sqlite/ext/fts5/fts5parse.y .\n",
            "rm -f fts5parse.h\n",
            "./lemon  -S fts5parse.y\n",
            "tclsh8.6 /content/sqlite/ext/fts5/tool/mkfts5c.tcl\n",
            "cp /content/sqlite/ext/fts5/fts5.h .\n",
            "rm -rf tsrc\n",
            "mkdir tsrc\n",
            "cp -f /content/sqlite/src/alter.c /content/sqlite/src/analyze.c /content/sqlite/src/attach.c /content/sqlite/src/auth.c /content/sqlite/src/backup.c /content/sqlite/src/bitvec.c /content/sqlite/src/btmutex.c /content/sqlite/src/btree.c /content/sqlite/src/btree.h /content/sqlite/src/btreeInt.h /content/sqlite/src/build.c /content/sqlite/src/callback.c /content/sqlite/src/complete.c /content/sqlite/src/ctime.c /content/sqlite/src/date.c /content/sqlite/src/dbpage.c /content/sqlite/src/dbstat.c /content/sqlite/src/delete.c /content/sqlite/src/expr.c /content/sqlite/src/fault.c /content/sqlite/src/fkey.c /content/sqlite/src/func.c /content/sqlite/src/global.c /content/sqlite/src/hash.c /content/sqlite/src/hash.h /content/sqlite/src/hwtime.h /content/sqlite/src/insert.c /content/sqlite/src/legacy.c /content/sqlite/src/loadext.c /content/sqlite/src/main.c /content/sqlite/src/malloc.c /content/sqlite/src/mem0.c /content/sqlite/src/mem1.c /content/sqlite/src/mem2.c /content/sqlite/src/mem3.c /content/sqlite/src/mem5.c /content/sqlite/src/memdb.c /content/sqlite/src/memjournal.c /content/sqlite/src/msvc.h /content/sqlite/src/mutex.c /content/sqlite/src/mutex.h /content/sqlite/src/mutex_noop.c /content/sqlite/src/mutex_unix.c /content/sqlite/src/mutex_w32.c /content/sqlite/src/notify.c /content/sqlite/src/os.c /content/sqlite/src/os.h /content/sqlite/src/os_common.h /content/sqlite/src/os_setup.h /content/sqlite/src/os_unix.c /content/sqlite/src/os_win.c /content/sqlite/src/os_win.h /content/sqlite/src/pager.c /content/sqlite/src/pager.h /content/sqlite/src/parse.y /content/sqlite/src/pcache.c /content/sqlite/src/pcache.h /content/sqlite/src/pcache1.c /content/sqlite/src/pragma.c /content/sqlite/src/pragma.h /content/sqlite/src/prepare.c /content/sqlite/src/printf.c /content/sqlite/src/random.c /content/sqlite/src/resolve.c /content/sqlite/src/rowset.c /content/sqlite/src/select.c /content/sqlite/src/status.c /content/sqlite/src/shell.c.in /content/sqlite/src/sqlite.h.in /content/sqlite/src/sqlite3ext.h /content/sqlite/src/sqliteInt.h /content/sqlite/src/sqliteLimit.h /content/sqlite/src/table.c /content/sqlite/src/tclsqlite.c /content/sqlite/src/threads.c /content/sqlite/src/tokenize.c /content/sqlite/src/treeview.c /content/sqlite/src/trigger.c /content/sqlite/src/utf.c /content/sqlite/src/update.c /content/sqlite/src/upsert.c /content/sqlite/src/util.c /content/sqlite/src/vacuum.c /content/sqlite/src/vdbe.c /content/sqlite/src/vdbe.h /content/sqlite/src/vdbeapi.c /content/sqlite/src/vdbeaux.c /content/sqlite/src/vdbeblob.c /content/sqlite/src/vdbemem.c /content/sqlite/src/vdbesort.c /content/sqlite/src/vdbetrace.c /content/sqlite/src/vdbevtab.c /content/sqlite/src/vdbeInt.h /content/sqlite/src/vtab.c /content/sqlite/src/vxworks.h /content/sqlite/src/wal.c /content/sqlite/src/wal.h /content/sqlite/src/walker.c /content/sqlite/src/where.c /content/sqlite/src/wherecode.c /content/sqlite/src/whereexpr.c /content/sqlite/src/whereInt.h /content/sqlite/src/window.c /content/sqlite/ext/fts1/fts1.c /content/sqlite/ext/fts1/fts1.h /content/sqlite/ext/fts1/fts1_hash.c /content/sqlite/ext/fts1/fts1_hash.h /content/sqlite/ext/fts1/fts1_porter.c /content/sqlite/ext/fts1/fts1_tokenizer.h /content/sqlite/ext/fts1/fts1_tokenizer1.c /content/sqlite/ext/fts2/fts2.c /content/sqlite/ext/fts2/fts2.h /content/sqlite/ext/fts2/fts2_hash.c /content/sqlite/ext/fts2/fts2_hash.h /content/sqlite/ext/fts2/fts2_icu.c /content/sqlite/ext/fts2/fts2_porter.c /content/sqlite/ext/fts2/fts2_tokenizer.h /content/sqlite/ext/fts2/fts2_tokenizer.c /content/sqlite/ext/fts2/fts2_tokenizer1.c /content/sqlite/ext/fts3/fts3.c /content/sqlite/ext/fts3/fts3.h /content/sqlite/ext/fts3/fts3Int.h /content/sqlite/ext/fts3/fts3_aux.c /content/sqlite/ext/fts3/fts3_expr.c /content/sqlite/ext/fts3/fts3_hash.c /content/sqlite/ext/fts3/fts3_hash.h /content/sqlite/ext/fts3/fts3_icu.c /content/sqlite/ext/fts3/fts3_porter.c /content/sqlite/ext/fts3/fts3_snippet.c /content/sqlite/ext/fts3/fts3_tokenizer.h /content/sqlite/ext/fts3/fts3_tokenizer.c /content/sqlite/ext/fts3/fts3_tokenizer1.c /content/sqlite/ext/fts3/fts3_tokenize_vtab.c /content/sqlite/ext/fts3/fts3_unicode.c /content/sqlite/ext/fts3/fts3_unicode2.c /content/sqlite/ext/fts3/fts3_write.c /content/sqlite/ext/icu/sqliteicu.h /content/sqlite/ext/icu/icu.c /content/sqlite/ext/rtree/rtree.h /content/sqlite/ext/rtree/rtree.c /content/sqlite/ext/rtree/geopoly.c /content/sqlite/ext/session/sqlite3session.c /content/sqlite/ext/session/sqlite3session.h /content/sqlite/ext/userauth/userauth.c /content/sqlite/ext/userauth/sqlite3userauth.h /content/sqlite/ext/rbu/sqlite3rbu.h /content/sqlite/ext/rbu/sqlite3rbu.c /content/sqlite/ext/misc/json1.c /content/sqlite/ext/misc/stmt.c keywordhash.h opcodes.c opcodes.h parse.c parse.h config.h shell.c sqlite3.h tsrc\n",
            "rm tsrc/sqlite.h.in tsrc/parse.y\n",
            "tclsh8.6 /content/sqlite/tool/vdbe-compress.tcl  <tsrc/vdbe.c >vdbe.new\n",
            "mv vdbe.new tsrc/vdbe.c\n",
            "cp fts5.c fts5.h tsrc\n",
            "touch .target_source\n",
            "tclsh8.6 /content/sqlite/tool/mksqlite3c.tcl\n",
            "cp tsrc/sqlite3ext.h .\n",
            "cp /content/sqlite/ext/session/sqlite3session.h .\n",
            "/content\n",
            "\u001b[K\u001b[?25hnpx: installed 1 in 1.962s\n",
            "\u001b[36m> destination directory is not empty. Using --force, continuing\u001b[39m\n",
            "\u001b[36m> cloned \u001b[1mcoleifer/pysqlite3\u001b[22m#\u001b[1mmaster\u001b[22m\u001b[39m\n",
            "running build_static\n",
            "Builds a C extension using a sqlite3 amalgamation\n",
            "building 'pysqlite3._sqlite3' extension\n",
            "creating build\n",
            "creating build/temp.linux-x86_64-3.7\n",
            "creating build/temp.linux-x86_64-3.7/src\n",
            "x86_64-linux-gnu-gcc -pthread -Wno-unused-result -Wsign-compare -DNDEBUG -g -fwrapv -O2 -Wall -g -fdebug-prefix-map=/build/python3.7-a56wZI/python3.7-3.7.10=. -fstack-protector-strong -Wformat -Werror=format-security -g -fdebug-prefix-map=/build/python3.7-a56wZI/python3.7-3.7.10=. -fstack-protector-strong -Wformat -Werror=format-security -Wdate-time -D_FORTIFY_SOURCE=2 -fPIC -DMODULE_NAME=\"pysqlite3.dbapi2\" -DSQLITE_ALLOW_COVERING_INDEX_SCAN=1 -DSQLITE_ENABLE_FTS3=1 -DSQLITE_ENABLE_FTS3_PARENTHESIS=1 -DSQLITE_ENABLE_FTS4=1 -DSQLITE_ENABLE_FTS5=1 -DSQLITE_ENABLE_JSON1=1 -DSQLITE_ENABLE_LOAD_EXTENSION=1 -DSQLITE_ENABLE_RTREE=1 -DSQLITE_ENABLE_STAT4=1 -DSQLITE_ENABLE_UPDATE_DELETE_LIMIT=1 -DSQLITE_SOUNDEX=1 -DSQLITE_USE_URI=1 -DSQLITE_TEMP_STORE=3 -DSQLITE_MAX_VARIABLE_NUMBER=250000 -DSQLITE_MAX_MMAP_SIZE=1099511627776 -I. -I/usr/include/python3.7m -c src/module.c -o build/temp.linux-x86_64-3.7/src/module.o\n",
            "x86_64-linux-gnu-gcc -pthread -Wno-unused-result -Wsign-compare -DNDEBUG -g -fwrapv -O2 -Wall -g -fdebug-prefix-map=/build/python3.7-a56wZI/python3.7-3.7.10=. -fstack-protector-strong -Wformat -Werror=format-security -g -fdebug-prefix-map=/build/python3.7-a56wZI/python3.7-3.7.10=. -fstack-protector-strong -Wformat -Werror=format-security -Wdate-time -D_FORTIFY_SOURCE=2 -fPIC -DMODULE_NAME=\"pysqlite3.dbapi2\" -DSQLITE_ALLOW_COVERING_INDEX_SCAN=1 -DSQLITE_ENABLE_FTS3=1 -DSQLITE_ENABLE_FTS3_PARENTHESIS=1 -DSQLITE_ENABLE_FTS4=1 -DSQLITE_ENABLE_FTS5=1 -DSQLITE_ENABLE_JSON1=1 -DSQLITE_ENABLE_LOAD_EXTENSION=1 -DSQLITE_ENABLE_RTREE=1 -DSQLITE_ENABLE_STAT4=1 -DSQLITE_ENABLE_UPDATE_DELETE_LIMIT=1 -DSQLITE_SOUNDEX=1 -DSQLITE_USE_URI=1 -DSQLITE_TEMP_STORE=3 -DSQLITE_MAX_VARIABLE_NUMBER=250000 -DSQLITE_MAX_MMAP_SIZE=1099511627776 -I. -I/usr/include/python3.7m -c src/connection.c -o build/temp.linux-x86_64-3.7/src/connection.o\n",
            "x86_64-linux-gnu-gcc -pthread -Wno-unused-result -Wsign-compare -DNDEBUG -g -fwrapv -O2 -Wall -g -fdebug-prefix-map=/build/python3.7-a56wZI/python3.7-3.7.10=. -fstack-protector-strong -Wformat -Werror=format-security -g -fdebug-prefix-map=/build/python3.7-a56wZI/python3.7-3.7.10=. -fstack-protector-strong -Wformat -Werror=format-security -Wdate-time -D_FORTIFY_SOURCE=2 -fPIC -DMODULE_NAME=\"pysqlite3.dbapi2\" -DSQLITE_ALLOW_COVERING_INDEX_SCAN=1 -DSQLITE_ENABLE_FTS3=1 -DSQLITE_ENABLE_FTS3_PARENTHESIS=1 -DSQLITE_ENABLE_FTS4=1 -DSQLITE_ENABLE_FTS5=1 -DSQLITE_ENABLE_JSON1=1 -DSQLITE_ENABLE_LOAD_EXTENSION=1 -DSQLITE_ENABLE_RTREE=1 -DSQLITE_ENABLE_STAT4=1 -DSQLITE_ENABLE_UPDATE_DELETE_LIMIT=1 -DSQLITE_SOUNDEX=1 -DSQLITE_USE_URI=1 -DSQLITE_TEMP_STORE=3 -DSQLITE_MAX_VARIABLE_NUMBER=250000 -DSQLITE_MAX_MMAP_SIZE=1099511627776 -I. -I/usr/include/python3.7m -c src/cursor.c -o build/temp.linux-x86_64-3.7/src/cursor.o\n",
            "x86_64-linux-gnu-gcc -pthread -Wno-unused-result -Wsign-compare -DNDEBUG -g -fwrapv -O2 -Wall -g -fdebug-prefix-map=/build/python3.7-a56wZI/python3.7-3.7.10=. -fstack-protector-strong -Wformat -Werror=format-security -g -fdebug-prefix-map=/build/python3.7-a56wZI/python3.7-3.7.10=. -fstack-protector-strong -Wformat -Werror=format-security -Wdate-time -D_FORTIFY_SOURCE=2 -fPIC -DMODULE_NAME=\"pysqlite3.dbapi2\" -DSQLITE_ALLOW_COVERING_INDEX_SCAN=1 -DSQLITE_ENABLE_FTS3=1 -DSQLITE_ENABLE_FTS3_PARENTHESIS=1 -DSQLITE_ENABLE_FTS4=1 -DSQLITE_ENABLE_FTS5=1 -DSQLITE_ENABLE_JSON1=1 -DSQLITE_ENABLE_LOAD_EXTENSION=1 -DSQLITE_ENABLE_RTREE=1 -DSQLITE_ENABLE_STAT4=1 -DSQLITE_ENABLE_UPDATE_DELETE_LIMIT=1 -DSQLITE_SOUNDEX=1 -DSQLITE_USE_URI=1 -DSQLITE_TEMP_STORE=3 -DSQLITE_MAX_VARIABLE_NUMBER=250000 -DSQLITE_MAX_MMAP_SIZE=1099511627776 -I. -I/usr/include/python3.7m -c src/cache.c -o build/temp.linux-x86_64-3.7/src/cache.o\n",
            "x86_64-linux-gnu-gcc -pthread -Wno-unused-result -Wsign-compare -DNDEBUG -g -fwrapv -O2 -Wall -g -fdebug-prefix-map=/build/python3.7-a56wZI/python3.7-3.7.10=. -fstack-protector-strong -Wformat -Werror=format-security -g -fdebug-prefix-map=/build/python3.7-a56wZI/python3.7-3.7.10=. -fstack-protector-strong -Wformat -Werror=format-security -Wdate-time -D_FORTIFY_SOURCE=2 -fPIC -DMODULE_NAME=\"pysqlite3.dbapi2\" -DSQLITE_ALLOW_COVERING_INDEX_SCAN=1 -DSQLITE_ENABLE_FTS3=1 -DSQLITE_ENABLE_FTS3_PARENTHESIS=1 -DSQLITE_ENABLE_FTS4=1 -DSQLITE_ENABLE_FTS5=1 -DSQLITE_ENABLE_JSON1=1 -DSQLITE_ENABLE_LOAD_EXTENSION=1 -DSQLITE_ENABLE_RTREE=1 -DSQLITE_ENABLE_STAT4=1 -DSQLITE_ENABLE_UPDATE_DELETE_LIMIT=1 -DSQLITE_SOUNDEX=1 -DSQLITE_USE_URI=1 -DSQLITE_TEMP_STORE=3 -DSQLITE_MAX_VARIABLE_NUMBER=250000 -DSQLITE_MAX_MMAP_SIZE=1099511627776 -I. -I/usr/include/python3.7m -c src/microprotocols.c -o build/temp.linux-x86_64-3.7/src/microprotocols.o\n",
            "x86_64-linux-gnu-gcc -pthread -Wno-unused-result -Wsign-compare -DNDEBUG -g -fwrapv -O2 -Wall -g -fdebug-prefix-map=/build/python3.7-a56wZI/python3.7-3.7.10=. -fstack-protector-strong -Wformat -Werror=format-security -g -fdebug-prefix-map=/build/python3.7-a56wZI/python3.7-3.7.10=. -fstack-protector-strong -Wformat -Werror=format-security -Wdate-time -D_FORTIFY_SOURCE=2 -fPIC -DMODULE_NAME=\"pysqlite3.dbapi2\" -DSQLITE_ALLOW_COVERING_INDEX_SCAN=1 -DSQLITE_ENABLE_FTS3=1 -DSQLITE_ENABLE_FTS3_PARENTHESIS=1 -DSQLITE_ENABLE_FTS4=1 -DSQLITE_ENABLE_FTS5=1 -DSQLITE_ENABLE_JSON1=1 -DSQLITE_ENABLE_LOAD_EXTENSION=1 -DSQLITE_ENABLE_RTREE=1 -DSQLITE_ENABLE_STAT4=1 -DSQLITE_ENABLE_UPDATE_DELETE_LIMIT=1 -DSQLITE_SOUNDEX=1 -DSQLITE_USE_URI=1 -DSQLITE_TEMP_STORE=3 -DSQLITE_MAX_VARIABLE_NUMBER=250000 -DSQLITE_MAX_MMAP_SIZE=1099511627776 -I. -I/usr/include/python3.7m -c src/prepare_protocol.c -o build/temp.linux-x86_64-3.7/src/prepare_protocol.o\n",
            "x86_64-linux-gnu-gcc -pthread -Wno-unused-result -Wsign-compare -DNDEBUG -g -fwrapv -O2 -Wall -g -fdebug-prefix-map=/build/python3.7-a56wZI/python3.7-3.7.10=. -fstack-protector-strong -Wformat -Werror=format-security -g -fdebug-prefix-map=/build/python3.7-a56wZI/python3.7-3.7.10=. -fstack-protector-strong -Wformat -Werror=format-security -Wdate-time -D_FORTIFY_SOURCE=2 -fPIC -DMODULE_NAME=\"pysqlite3.dbapi2\" -DSQLITE_ALLOW_COVERING_INDEX_SCAN=1 -DSQLITE_ENABLE_FTS3=1 -DSQLITE_ENABLE_FTS3_PARENTHESIS=1 -DSQLITE_ENABLE_FTS4=1 -DSQLITE_ENABLE_FTS5=1 -DSQLITE_ENABLE_JSON1=1 -DSQLITE_ENABLE_LOAD_EXTENSION=1 -DSQLITE_ENABLE_RTREE=1 -DSQLITE_ENABLE_STAT4=1 -DSQLITE_ENABLE_UPDATE_DELETE_LIMIT=1 -DSQLITE_SOUNDEX=1 -DSQLITE_USE_URI=1 -DSQLITE_TEMP_STORE=3 -DSQLITE_MAX_VARIABLE_NUMBER=250000 -DSQLITE_MAX_MMAP_SIZE=1099511627776 -I. -I/usr/include/python3.7m -c src/statement.c -o build/temp.linux-x86_64-3.7/src/statement.o\n",
            "x86_64-linux-gnu-gcc -pthread -Wno-unused-result -Wsign-compare -DNDEBUG -g -fwrapv -O2 -Wall -g -fdebug-prefix-map=/build/python3.7-a56wZI/python3.7-3.7.10=. -fstack-protector-strong -Wformat -Werror=format-security -g -fdebug-prefix-map=/build/python3.7-a56wZI/python3.7-3.7.10=. -fstack-protector-strong -Wformat -Werror=format-security -Wdate-time -D_FORTIFY_SOURCE=2 -fPIC -DMODULE_NAME=\"pysqlite3.dbapi2\" -DSQLITE_ALLOW_COVERING_INDEX_SCAN=1 -DSQLITE_ENABLE_FTS3=1 -DSQLITE_ENABLE_FTS3_PARENTHESIS=1 -DSQLITE_ENABLE_FTS4=1 -DSQLITE_ENABLE_FTS5=1 -DSQLITE_ENABLE_JSON1=1 -DSQLITE_ENABLE_LOAD_EXTENSION=1 -DSQLITE_ENABLE_RTREE=1 -DSQLITE_ENABLE_STAT4=1 -DSQLITE_ENABLE_UPDATE_DELETE_LIMIT=1 -DSQLITE_SOUNDEX=1 -DSQLITE_USE_URI=1 -DSQLITE_TEMP_STORE=3 -DSQLITE_MAX_VARIABLE_NUMBER=250000 -DSQLITE_MAX_MMAP_SIZE=1099511627776 -I. -I/usr/include/python3.7m -c src/util.c -o build/temp.linux-x86_64-3.7/src/util.o\n",
            "x86_64-linux-gnu-gcc -pthread -Wno-unused-result -Wsign-compare -DNDEBUG -g -fwrapv -O2 -Wall -g -fdebug-prefix-map=/build/python3.7-a56wZI/python3.7-3.7.10=. -fstack-protector-strong -Wformat -Werror=format-security -g -fdebug-prefix-map=/build/python3.7-a56wZI/python3.7-3.7.10=. -fstack-protector-strong -Wformat -Werror=format-security -Wdate-time -D_FORTIFY_SOURCE=2 -fPIC -DMODULE_NAME=\"pysqlite3.dbapi2\" -DSQLITE_ALLOW_COVERING_INDEX_SCAN=1 -DSQLITE_ENABLE_FTS3=1 -DSQLITE_ENABLE_FTS3_PARENTHESIS=1 -DSQLITE_ENABLE_FTS4=1 -DSQLITE_ENABLE_FTS5=1 -DSQLITE_ENABLE_JSON1=1 -DSQLITE_ENABLE_LOAD_EXTENSION=1 -DSQLITE_ENABLE_RTREE=1 -DSQLITE_ENABLE_STAT4=1 -DSQLITE_ENABLE_UPDATE_DELETE_LIMIT=1 -DSQLITE_SOUNDEX=1 -DSQLITE_USE_URI=1 -DSQLITE_TEMP_STORE=3 -DSQLITE_MAX_VARIABLE_NUMBER=250000 -DSQLITE_MAX_MMAP_SIZE=1099511627776 -I. -I/usr/include/python3.7m -c src/row.c -o build/temp.linux-x86_64-3.7/src/row.o\n",
            "x86_64-linux-gnu-gcc -pthread -Wno-unused-result -Wsign-compare -DNDEBUG -g -fwrapv -O2 -Wall -g -fdebug-prefix-map=/build/python3.7-a56wZI/python3.7-3.7.10=. -fstack-protector-strong -Wformat -Werror=format-security -g -fdebug-prefix-map=/build/python3.7-a56wZI/python3.7-3.7.10=. -fstack-protector-strong -Wformat -Werror=format-security -Wdate-time -D_FORTIFY_SOURCE=2 -fPIC -DMODULE_NAME=\"pysqlite3.dbapi2\" -DSQLITE_ALLOW_COVERING_INDEX_SCAN=1 -DSQLITE_ENABLE_FTS3=1 -DSQLITE_ENABLE_FTS3_PARENTHESIS=1 -DSQLITE_ENABLE_FTS4=1 -DSQLITE_ENABLE_FTS5=1 -DSQLITE_ENABLE_JSON1=1 -DSQLITE_ENABLE_LOAD_EXTENSION=1 -DSQLITE_ENABLE_RTREE=1 -DSQLITE_ENABLE_STAT4=1 -DSQLITE_ENABLE_UPDATE_DELETE_LIMIT=1 -DSQLITE_SOUNDEX=1 -DSQLITE_USE_URI=1 -DSQLITE_TEMP_STORE=3 -DSQLITE_MAX_VARIABLE_NUMBER=250000 -DSQLITE_MAX_MMAP_SIZE=1099511627776 -I. -I/usr/include/python3.7m -c src/blob.c -o build/temp.linux-x86_64-3.7/src/blob.o\n",
            "x86_64-linux-gnu-gcc -pthread -Wno-unused-result -Wsign-compare -DNDEBUG -g -fwrapv -O2 -Wall -g -fdebug-prefix-map=/build/python3.7-a56wZI/python3.7-3.7.10=. -fstack-protector-strong -Wformat -Werror=format-security -g -fdebug-prefix-map=/build/python3.7-a56wZI/python3.7-3.7.10=. -fstack-protector-strong -Wformat -Werror=format-security -Wdate-time -D_FORTIFY_SOURCE=2 -fPIC -DMODULE_NAME=\"pysqlite3.dbapi2\" -DSQLITE_ALLOW_COVERING_INDEX_SCAN=1 -DSQLITE_ENABLE_FTS3=1 -DSQLITE_ENABLE_FTS3_PARENTHESIS=1 -DSQLITE_ENABLE_FTS4=1 -DSQLITE_ENABLE_FTS5=1 -DSQLITE_ENABLE_JSON1=1 -DSQLITE_ENABLE_LOAD_EXTENSION=1 -DSQLITE_ENABLE_RTREE=1 -DSQLITE_ENABLE_STAT4=1 -DSQLITE_ENABLE_UPDATE_DELETE_LIMIT=1 -DSQLITE_SOUNDEX=1 -DSQLITE_USE_URI=1 -DSQLITE_TEMP_STORE=3 -DSQLITE_MAX_VARIABLE_NUMBER=250000 -DSQLITE_MAX_MMAP_SIZE=1099511627776 -I. -I/usr/include/python3.7m -c ./sqlite3.c -o build/temp.linux-x86_64-3.7/./sqlite3.o\n",
            "creating build/lib.linux-x86_64-3.7\n",
            "creating build/lib.linux-x86_64-3.7/pysqlite3\n",
            "x86_64-linux-gnu-gcc -pthread -shared -Wl,-O1 -Wl,-Bsymbolic-functions -Wl,-Bsymbolic-functions -Wl,-z,relro -Wl,-Bsymbolic-functions -Wl,-z,relro -g -fdebug-prefix-map=/build/python3.7-a56wZI/python3.7-3.7.10=. -fstack-protector-strong -Wformat -Werror=format-security -Wdate-time -D_FORTIFY_SOURCE=2 build/temp.linux-x86_64-3.7/src/module.o build/temp.linux-x86_64-3.7/src/connection.o build/temp.linux-x86_64-3.7/src/cursor.o build/temp.linux-x86_64-3.7/src/cache.o build/temp.linux-x86_64-3.7/src/microprotocols.o build/temp.linux-x86_64-3.7/src/prepare_protocol.o build/temp.linux-x86_64-3.7/src/statement.o build/temp.linux-x86_64-3.7/src/util.o build/temp.linux-x86_64-3.7/src/row.o build/temp.linux-x86_64-3.7/src/blob.o build/temp.linux-x86_64-3.7/./sqlite3.o -o build/lib.linux-x86_64-3.7/pysqlite3/_sqlite3.cpython-37m-x86_64-linux-gnu.so -lm\n",
            "running build\n",
            "running build_py\n",
            "copying pysqlite3/dbapi2.py -> build/lib.linux-x86_64-3.7/pysqlite3\n",
            "copying pysqlite3/__init__.py -> build/lib.linux-x86_64-3.7/pysqlite3\n",
            "running build_ext\n",
            "Builds a C extension linking against libsqlite3 library\n"
          ],
          "name": "stdout"
        },
        {
          "output_type": "execute_result",
          "data": {
            "application/vnd.google.colaboratory.intrinsic+json": {
              "type": "string"
            },
            "text/plain": [
              "'3.22.0'"
            ]
          },
          "metadata": {
            "tags": []
          },
          "execution_count": 19
        }
      ]
    },
    {
      "cell_type": "code",
      "metadata": {
        "colab": {
          "base_uri": "https://localhost:8080/",
          "height": 35
        },
        "collapsed": true,
        "id": "6PQ3nfO5bmcx",
        "outputId": "3ed5932c-1013-4575-ea12-6a5da42ff9be"
      },
      "source": [
        "import sqlite3\n",
        "sqlite3.sqlite_version"
      ],
      "execution_count": 118,
      "outputs": [
        {
          "output_type": "execute_result",
          "data": {
            "application/vnd.google.colaboratory.intrinsic+json": {
              "type": "string"
            },
            "text/plain": [
              "'3.35.3'"
            ]
          },
          "metadata": {
            "tags": []
          },
          "execution_count": 118
        }
      ]
    },
    {
      "cell_type": "markdown",
      "metadata": {
        "id": "aZQLlLyILYvM"
      },
      "source": [
        "# Question 1\n",
        "\n",
        "Given a database of the results of an election, find the number of seats won by each party. There are some rules to going about this:\n",
        "\n",
        "\n",
        "*   There are many constituencies in a state and many candidates who are contesting the election from each constituency.\n",
        "\n",
        "*   Each candidate belongs to a party.\n",
        "\n",
        "*   The candidate with the maximum number of votes in a given constituency wins for that constituency.\n",
        "\n",
        "The output should be in the following format: Party Seats_won\n",
        "The ordering should be in the order of seats won in descending order.\n",
        "\n",
        "Expected Output:\n",
        "\n",
        "**Democratic 2**\n",
        "\n",
        "**Republic 1** "
      ]
    },
    {
      "cell_type": "code",
      "metadata": {
        "id": "uF7OH3rrHguE",
        "colab": {
          "base_uri": "https://localhost:8080/"
        },
        "outputId": "fcb2de12-c426-446c-8b72-d58399533c4c"
      },
      "source": [
        "# Prepare Query Data\n",
        "import sqlite3\n",
        "\n",
        "conn = sqlite3.connect('test.db')\n",
        "print(\"Opened database successfully\");\n",
        "\n",
        "conn.execute('''DROP TABLE IF EXISTS candidates;''')\n",
        "conn.execute('''DROP TABLE IF EXISTS results;''')\n",
        "\n",
        "conn.execute('''\n",
        "CREATE TABLE IF NOT EXISTS candidates(id integer\n",
        "                                    , gender text\n",
        "                                    , age integer\n",
        "                                    , party string);''')\n",
        "\n",
        "conn.execute('''\n",
        "CREATE TABLE IF NOT EXISTS results(constituency_id integer\n",
        "                                    , candidate_id integer\n",
        "                                    , votes integer);''')\n",
        "\n",
        "# INSERTING VALUES\n",
        "\n",
        "conn.execute(\"INSERT INTO candidates VALUES(1, 'M', 55, 'Democratic');\")\n",
        "conn.execute(\"INSERT INTO candidates VALUES(2, 'M', 51, 'Democratic');\")\n",
        "conn.execute(\"INSERT INTO candidates VALUES(3, 'F', 62, 'Democratic');\")\n",
        "conn.execute(\"INSERT INTO candidates VALUES(4, 'M', 60, 'Republic');\")\n",
        "conn.execute(\"INSERT INTO candidates VALUES(5, 'F', 61, 'Republic');\")\n",
        "conn.execute(\"INSERT INTO candidates VALUES(6, 'F', 58, 'Republic');\")\n",
        "\n",
        "# INSERTING VALUES\n",
        "\n",
        "conn.execute(\"INSERT INTO results VALUES(1, 1, 847529);\")\n",
        "conn.execute(\"INSERT INTO results VALUES(1, 4, 283409);\")\n",
        "conn.execute(\"INSERT INTO results VALUES(2, 2, 293841);\")\n",
        "conn.execute(\"INSERT INTO results VALUES(2, 5, 394385);\")\n",
        "conn.execute(\"INSERT INTO results VALUES(3, 3, 429084);\")\n",
        "conn.execute(\"INSERT INTO results VALUES(3, 6, 303890);\")\n",
        "\n",
        "conn.commit()\n",
        "conn.close()\n",
        "print(\"Data Preparation - Done\");"
      ],
      "execution_count": 119,
      "outputs": [
        {
          "output_type": "stream",
          "text": [
            "Opened database successfully\n",
            "Data Preparation - Done\n"
          ],
          "name": "stdout"
        }
      ]
    },
    {
      "cell_type": "code",
      "metadata": {
        "id": "2-p4efZrIJJb"
      },
      "source": [
        "# Test Data Load Success\n",
        "\n",
        "import pandas as pd\n",
        "# Create your connection.\n",
        "cnx = sqlite3.connect('test.db')\n",
        "\n",
        "df_candidates = pd.read_sql_query(\"SELECT * FROM candidates\", cnx)\n",
        "df_results = pd.read_sql_query(\"SELECT * FROM results\", cnx)"
      ],
      "execution_count": 120,
      "outputs": []
    },
    {
      "cell_type": "code",
      "metadata": {
        "colab": {
          "base_uri": "https://localhost:8080/",
          "height": 227
        },
        "id": "3yANwBEQIqL_",
        "outputId": "1d492241-0b4c-4708-ca25-a009b8c7261d"
      },
      "source": [
        "df_candidates"
      ],
      "execution_count": 121,
      "outputs": [
        {
          "output_type": "execute_result",
          "data": {
            "text/html": [
              "<div>\n",
              "<style scoped>\n",
              "    .dataframe tbody tr th:only-of-type {\n",
              "        vertical-align: middle;\n",
              "    }\n",
              "\n",
              "    .dataframe tbody tr th {\n",
              "        vertical-align: top;\n",
              "    }\n",
              "\n",
              "    .dataframe thead th {\n",
              "        text-align: right;\n",
              "    }\n",
              "</style>\n",
              "<table border=\"1\" class=\"dataframe\">\n",
              "  <thead>\n",
              "    <tr style=\"text-align: right;\">\n",
              "      <th></th>\n",
              "      <th>id</th>\n",
              "      <th>gender</th>\n",
              "      <th>age</th>\n",
              "      <th>party</th>\n",
              "    </tr>\n",
              "  </thead>\n",
              "  <tbody>\n",
              "    <tr>\n",
              "      <th>0</th>\n",
              "      <td>1</td>\n",
              "      <td>M</td>\n",
              "      <td>55</td>\n",
              "      <td>Democratic</td>\n",
              "    </tr>\n",
              "    <tr>\n",
              "      <th>1</th>\n",
              "      <td>2</td>\n",
              "      <td>M</td>\n",
              "      <td>51</td>\n",
              "      <td>Democratic</td>\n",
              "    </tr>\n",
              "    <tr>\n",
              "      <th>2</th>\n",
              "      <td>3</td>\n",
              "      <td>F</td>\n",
              "      <td>62</td>\n",
              "      <td>Democratic</td>\n",
              "    </tr>\n",
              "    <tr>\n",
              "      <th>3</th>\n",
              "      <td>4</td>\n",
              "      <td>M</td>\n",
              "      <td>60</td>\n",
              "      <td>Republic</td>\n",
              "    </tr>\n",
              "    <tr>\n",
              "      <th>4</th>\n",
              "      <td>5</td>\n",
              "      <td>F</td>\n",
              "      <td>61</td>\n",
              "      <td>Republic</td>\n",
              "    </tr>\n",
              "    <tr>\n",
              "      <th>5</th>\n",
              "      <td>6</td>\n",
              "      <td>F</td>\n",
              "      <td>58</td>\n",
              "      <td>Republic</td>\n",
              "    </tr>\n",
              "  </tbody>\n",
              "</table>\n",
              "</div>"
            ],
            "text/plain": [
              "   id gender  age       party\n",
              "0   1      M   55  Democratic\n",
              "1   2      M   51  Democratic\n",
              "2   3      F   62  Democratic\n",
              "3   4      M   60    Republic\n",
              "4   5      F   61    Republic\n",
              "5   6      F   58    Republic"
            ]
          },
          "metadata": {
            "tags": []
          },
          "execution_count": 121
        }
      ]
    },
    {
      "cell_type": "code",
      "metadata": {
        "colab": {
          "base_uri": "https://localhost:8080/",
          "height": 227
        },
        "id": "KtBSfPFzL5tc",
        "outputId": "5f9474cc-d587-49aa-a141-37392bb13430"
      },
      "source": [
        "df_results"
      ],
      "execution_count": 122,
      "outputs": [
        {
          "output_type": "execute_result",
          "data": {
            "text/html": [
              "<div>\n",
              "<style scoped>\n",
              "    .dataframe tbody tr th:only-of-type {\n",
              "        vertical-align: middle;\n",
              "    }\n",
              "\n",
              "    .dataframe tbody tr th {\n",
              "        vertical-align: top;\n",
              "    }\n",
              "\n",
              "    .dataframe thead th {\n",
              "        text-align: right;\n",
              "    }\n",
              "</style>\n",
              "<table border=\"1\" class=\"dataframe\">\n",
              "  <thead>\n",
              "    <tr style=\"text-align: right;\">\n",
              "      <th></th>\n",
              "      <th>constituency_id</th>\n",
              "      <th>candidate_id</th>\n",
              "      <th>votes</th>\n",
              "    </tr>\n",
              "  </thead>\n",
              "  <tbody>\n",
              "    <tr>\n",
              "      <th>0</th>\n",
              "      <td>1</td>\n",
              "      <td>1</td>\n",
              "      <td>847529</td>\n",
              "    </tr>\n",
              "    <tr>\n",
              "      <th>1</th>\n",
              "      <td>1</td>\n",
              "      <td>4</td>\n",
              "      <td>283409</td>\n",
              "    </tr>\n",
              "    <tr>\n",
              "      <th>2</th>\n",
              "      <td>2</td>\n",
              "      <td>2</td>\n",
              "      <td>293841</td>\n",
              "    </tr>\n",
              "    <tr>\n",
              "      <th>3</th>\n",
              "      <td>2</td>\n",
              "      <td>5</td>\n",
              "      <td>394385</td>\n",
              "    </tr>\n",
              "    <tr>\n",
              "      <th>4</th>\n",
              "      <td>3</td>\n",
              "      <td>3</td>\n",
              "      <td>429084</td>\n",
              "    </tr>\n",
              "    <tr>\n",
              "      <th>5</th>\n",
              "      <td>3</td>\n",
              "      <td>6</td>\n",
              "      <td>303890</td>\n",
              "    </tr>\n",
              "  </tbody>\n",
              "</table>\n",
              "</div>"
            ],
            "text/plain": [
              "   constituency_id  candidate_id   votes\n",
              "0                1             1  847529\n",
              "1                1             4  283409\n",
              "2                2             2  293841\n",
              "3                2             5  394385\n",
              "4                3             3  429084\n",
              "5                3             6  303890"
            ]
          },
          "metadata": {
            "tags": []
          },
          "execution_count": 122
        }
      ]
    },
    {
      "cell_type": "code",
      "metadata": {
        "colab": {
          "base_uri": "https://localhost:8080/",
          "height": 107
        },
        "id": "cmW1AdM6L6os",
        "outputId": "d01fb7ea-04f3-4b71-fc54-4992a024b7d6"
      },
      "source": [
        "##SQL SOLUTION\n",
        "query = '''\n",
        "SELECT party, count(*) as seats_won from (\n",
        "SELECT c.party\n",
        ", r.constituency_id\n",
        ", r.candidate_id\n",
        ", r.votes\n",
        ", ROW_NUMBER() OVER (PARTITION BY constituency_id ORDER BY votes desc) as r_num\n",
        "FROM \n",
        "  results as r \n",
        "INNER JOIN\n",
        "  candidates as c\n",
        "ON c.id = r.candidate_id\n",
        ")\n",
        "WHERE r_num = 1\n",
        "GROUP BY party\n",
        "'''\n",
        "df_solution = pd.read_sql_query(query, cnx)\n",
        "df_solution"
      ],
      "execution_count": 123,
      "outputs": [
        {
          "output_type": "execute_result",
          "data": {
            "text/html": [
              "<div>\n",
              "<style scoped>\n",
              "    .dataframe tbody tr th:only-of-type {\n",
              "        vertical-align: middle;\n",
              "    }\n",
              "\n",
              "    .dataframe tbody tr th {\n",
              "        vertical-align: top;\n",
              "    }\n",
              "\n",
              "    .dataframe thead th {\n",
              "        text-align: right;\n",
              "    }\n",
              "</style>\n",
              "<table border=\"1\" class=\"dataframe\">\n",
              "  <thead>\n",
              "    <tr style=\"text-align: right;\">\n",
              "      <th></th>\n",
              "      <th>party</th>\n",
              "      <th>seats_won</th>\n",
              "    </tr>\n",
              "  </thead>\n",
              "  <tbody>\n",
              "    <tr>\n",
              "      <th>0</th>\n",
              "      <td>Democratic</td>\n",
              "      <td>2</td>\n",
              "    </tr>\n",
              "    <tr>\n",
              "      <th>1</th>\n",
              "      <td>Republic</td>\n",
              "      <td>1</td>\n",
              "    </tr>\n",
              "  </tbody>\n",
              "</table>\n",
              "</div>"
            ],
            "text/plain": [
              "        party  seats_won\n",
              "0  Democratic          2\n",
              "1    Republic          1"
            ]
          },
          "metadata": {
            "tags": []
          },
          "execution_count": 123
        }
      ]
    },
    {
      "cell_type": "code",
      "metadata": {
        "id": "tyCqzmG1dNVV"
      },
      "source": [
        "# SOLUTION USING PANDAS LIBRARY\n",
        "df_temp = df_results.sort_values(by=['constituency_id', 'votes']\n",
        "                                 , ascending=[True,False])\\\n",
        "    .groupby(['constituency_id']).head(1)\n",
        "\n",
        "df_final = pd.merge(df_temp[['candidate_id']]\n",
        "         , df_candidates[['id', 'party']]\n",
        "         , left_on='candidate_id'\n",
        "         , right_on='id'\n",
        "         , how='inner' \n",
        "         )[['party', 'candidate_id']].groupby(['party']).agg(\n",
        "    count_col=pd.NamedAgg(column=\"candidate_id\", aggfunc=\"count\")\n",
        ")\n",
        "df_final.columns = ['seats_won']"
      ],
      "execution_count": 124,
      "outputs": []
    },
    {
      "cell_type": "code",
      "metadata": {
        "colab": {
          "base_uri": "https://localhost:8080/",
          "height": 137
        },
        "id": "lInpej7ji5vu",
        "outputId": "eedfd9c6-f9bc-46e8-e195-95d41022d337"
      },
      "source": [
        "df_final"
      ],
      "execution_count": 125,
      "outputs": [
        {
          "output_type": "execute_result",
          "data": {
            "text/html": [
              "<div>\n",
              "<style scoped>\n",
              "    .dataframe tbody tr th:only-of-type {\n",
              "        vertical-align: middle;\n",
              "    }\n",
              "\n",
              "    .dataframe tbody tr th {\n",
              "        vertical-align: top;\n",
              "    }\n",
              "\n",
              "    .dataframe thead th {\n",
              "        text-align: right;\n",
              "    }\n",
              "</style>\n",
              "<table border=\"1\" class=\"dataframe\">\n",
              "  <thead>\n",
              "    <tr style=\"text-align: right;\">\n",
              "      <th></th>\n",
              "      <th>seats_won</th>\n",
              "    </tr>\n",
              "    <tr>\n",
              "      <th>party</th>\n",
              "      <th></th>\n",
              "    </tr>\n",
              "  </thead>\n",
              "  <tbody>\n",
              "    <tr>\n",
              "      <th>Democratic</th>\n",
              "      <td>2</td>\n",
              "    </tr>\n",
              "    <tr>\n",
              "      <th>Republic</th>\n",
              "      <td>1</td>\n",
              "    </tr>\n",
              "  </tbody>\n",
              "</table>\n",
              "</div>"
            ],
            "text/plain": [
              "            seats_won\n",
              "party                \n",
              "Democratic          2\n",
              "Republic            1"
            ]
          },
          "metadata": {
            "tags": []
          },
          "execution_count": 125
        }
      ]
    },
    {
      "cell_type": "code",
      "metadata": {
        "id": "OiSjPEijosjq"
      },
      "source": [
        "# LINK TO COLAB PYTHON NOTEBOOK\n",
        "# https://colab.research.google.com/drive/1vsf_H57wp_8MZ4zFnFJf918pUHtPhBKV#scrollTo=Dp38Py2BYkGW"
      ],
      "execution_count": null,
      "outputs": []
    }
  ]
}