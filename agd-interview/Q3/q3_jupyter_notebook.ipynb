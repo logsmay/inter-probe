{
  "nbformat": 4,
  "nbformat_minor": 0,
  "metadata": {
    "colab": {
      "name": "Agoda DE Q3.ipynb",
      "provenance": []
    },
    "kernelspec": {
      "name": "python3",
      "display_name": "Python 3"
    },
    "language_info": {
      "name": "python"
    }
  },
  "cells": [
    {
      "cell_type": "markdown",
      "metadata": {
        "id": "-oyuu55LQYlC"
      },
      "source": [
        "# Question 3: \n",
        "A company is performing an analysis on the computers at its main office. The computers are spaced along a single row. The analysis is performed in the following way:\n",
        "\n",
        "1.   Choose a contiguous segment of a certain number of computers, starting from the beginning of the row.\n",
        "2.   Analyze the available harddisk space on each of the computers.\n",
        "3.   Determine the minimum available disk space within this segment. \n",
        "\n",
        "After performing these steps for the first segment, it is then repeated for the next segment, continuing this procedure until the ned of the row (i.e if the segment size is 4, computers 1 to 4 would be analyzed, then 2 to 5, etc.,) Given this analysis procedure, find the maximum available disk space among all the minima that are found during the analysis\n",
        "\n",
        "**Example**\n",
        "\n",
        "n = 3, the number of computers\n",
        "space = [8, 2, 4]\n",
        "x = 2, the length of analysis segments\n",
        "\n",
        "In this array of computers, the subarrays of size 2 are [8, 2] and [2, 4]. Thus, the initial analysis returns 2 and 2 because those are the minima for the segments. Finally, the maximum of these values is 2. Therefore, the answer is 2. \n",
        "\n",
        "**Function Description**\n",
        "\n",
        "Complete the function segment in the editor below.\n",
        "segment has the following parameter(s):\n",
        "\n",
        "int x: the segment length to analyze\n",
        "\n",
        "int space[n]: the available hard disk space on each of the computers\n",
        "\n",
        "Returns: \n",
        "\n",
        "int: the maximum of the minimum values of available hard disk space\n",
        "found while analyzing the computers in segments of numComps\n",
        "\n",
        "\n",
        "Constraints\n",
        "\n",
        "\n",
        "1.   1≤n≤106 \n",
        "2.   1≤x≤n\n",
        "3.   1 ≤ space[i] ≤ 109\n",
        "\n",
        "\n",
        "\n",
        "\n"
      ]
    },
    {
      "cell_type": "code",
      "metadata": {
        "id": "f993vp2GQROn"
      },
      "source": [
        "def dsa_compute(x_seg_len, n_space, space_list):\n",
        "  space_chunks = [space_list[x:x+x_seg_len] for x in range(0, n_space) if x+x_seg_len <= n_space]\n",
        "  min_sub_seg = [min(seg) for seg in space_chunks]\n",
        "  return max(min_sub_seg)"
      ],
      "execution_count": 52,
      "outputs": []
    },
    {
      "cell_type": "code",
      "metadata": {
        "colab": {
          "base_uri": "https://localhost:8080/"
        },
        "id": "wpHQp6GqXSfq",
        "outputId": "60849314-f6d9-4b22-8066-d4251976ea80"
      },
      "source": [
        "x_seg_len = 1\n",
        "n_space = 5\n",
        "space_list = [1, 2, 3, 1, 2]\n",
        "dsa_compute(x_seg_len, n_space, space_list)"
      ],
      "execution_count": 53,
      "outputs": [
        {
          "output_type": "execute_result",
          "data": {
            "text/plain": [
              "3"
            ]
          },
          "metadata": {
            "tags": []
          },
          "execution_count": 53
        }
      ]
    },
    {
      "cell_type": "code",
      "metadata": {
        "colab": {
          "base_uri": "https://localhost:8080/"
        },
        "id": "ZtvJ4v_Rc7Qs",
        "outputId": "e9a431ad-b4a5-4d21-ee85-ba7802b72b48"
      },
      "source": [
        "x_seg_len = int(input())\n",
        "n_space = int(input())\n",
        "space_list = []\n",
        "for i in range(0, n_space):\n",
        "  space_i = int(input())\n",
        "  space_list.append(space_i)\n",
        "max_ds = dsa_compute(x_seg_len, n_space, space_list)\n",
        "print(max_ds)"
      ],
      "execution_count": 55,
      "outputs": [
        {
          "output_type": "stream",
          "text": [
            "2\n",
            "3\n",
            "8\n",
            "2\n",
            "4\n",
            "2\n"
          ],
          "name": "stdout"
        }
      ]
    },
    {
      "cell_type": "code",
      "metadata": {
        "id": "WIsQcO6Ld7HF"
      },
      "source": [
        ""
      ],
      "execution_count": null,
      "outputs": []
    }
  ]
}