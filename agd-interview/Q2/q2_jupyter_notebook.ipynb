{
  "nbformat": 4,
  "nbformat_minor": 0,
  "metadata": {
    "colab": {
      "name": "Agoda DE Q2.ipynb",
      "provenance": []
    },
    "kernelspec": {
      "name": "python3",
      "display_name": "Python 3"
    },
    "language_info": {
      "name": "python"
    }
  },
  "cells": [
    {
      "cell_type": "code",
      "metadata": {
        "id": "q6e89SRvz6H-"
      },
      "source": [
        "import re\n",
        "\n",
        "class LetterFilter:\n",
        "  \n",
        "    vowels = ['a', 'e', 'i', 'o', 'u']\n",
        "\n",
        "    # default constructor\n",
        "    def __init__(self, text):\n",
        "        self.text = text\n",
        "    \n",
        "    # method to filter constraints \n",
        "    # 1) to check if incoming data is lowercase\n",
        "    # 2) text contains atleast one vowel & one consonants\n",
        "    def filter_constraints(self):\n",
        "      constraint_flags = []\n",
        "      # constraint 1\n",
        "      if re.match('([a-z]+)$', self.text):\n",
        "        constraint_flags.append(True)\n",
        "      else:\n",
        "        constraint_flags.append(False)\n",
        "      #constraint 2a\n",
        "      #if string contains atleast one vowel\n",
        "      if any(s in self.text for s in self.vowels):\n",
        "        constraint_flags.append(True)\n",
        "      else:\n",
        "        constraint_flags.append(False)\n",
        "      #constraint 2b\n",
        "      #if string contains atleast one consonant\n",
        "      if any(s not in self.vowels for s in self.text):\n",
        "        constraint_flags.append(True)\n",
        "      else:\n",
        "        constraint_flags.append(False)\n",
        "      return all(constraint_flags)\n",
        "      \n",
        "  \n",
        "    # method to remove vowels following strict constraints\n",
        "    def filter_vowels(self):\n",
        "      constraint_flag = self.filter_constraints()\n",
        "      if constraint_flag:\n",
        "        filter_vowels = [i for i in list(self.text) if i not in self.vowels]\n",
        "        return ''.join(filter_vowels)\n",
        "      else:\n",
        "        return 'invalid constraints'\n",
        "\n",
        "    # method to remove consanants following strict constraints\n",
        "    def filter_consonants(self):\n",
        "      constraint_flag = self.filter_constraints()\n",
        "      if constraint_flag:\n",
        "        filter_consonants = [i for i in list(self.text) if i in self.vowels]\n",
        "        return ''.join(filter_consonants)\n",
        "      else:\n",
        "        return 'invalid constraints'\n",
        "  \n",
        "    def get_text(self):\n",
        "      return self.text"
      ],
      "execution_count": 152,
      "outputs": []
    },
    {
      "cell_type": "code",
      "metadata": {
        "colab": {
          "base_uri": "https://localhost:8080/"
        },
        "id": "sSIFga-r0jjX",
        "outputId": "1a582ad1-7b56-4875-a9fb-e1ba66ceb78e"
      },
      "source": [
        "data = input(\"Enter Input Text:\")\n",
        "# creating object of the class\n",
        "obj = LetterFilter(data)\n",
        "# calling the instance method using the object obj\n",
        "print(\"filter_vowels() --> \" + obj.filter_vowels())\n",
        "print(\"filter_consonants() --> \" + obj.filter_consonants())"
      ],
      "execution_count": 153,
      "outputs": [
        {
          "output_type": "stream",
          "text": [
            "Enter Input Text:onomatopoeia\n",
            "filter_vowels() --> nmtp\n",
            "filter_consonants() --> ooaooeia\n"
          ],
          "name": "stdout"
        }
      ]
    },
    {
      "cell_type": "code",
      "metadata": {
        "id": "W58nGiguBBSh"
      },
      "source": [
        ""
      ],
      "execution_count": null,
      "outputs": []
    }
  ]
}