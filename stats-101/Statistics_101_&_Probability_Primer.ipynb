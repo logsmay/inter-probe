{
  "nbformat": 4,
  "nbformat_minor": 0,
  "metadata": {
    "colab": {
      "name": "Statistics 101 & Probability Primer",
      "provenance": [],
      "collapsed_sections": [],
      "authorship_tag": "ABX9TyNsKF7i9CtJlyKVwklJK3lv",
      "include_colab_link": true
    },
    "kernelspec": {
      "name": "python3",
      "display_name": "Python 3"
    },
    "language_info": {
      "name": "python"
    }
  },
  "cells": [
    {
      "cell_type": "markdown",
      "metadata": {
        "id": "view-in-github",
        "colab_type": "text"
      },
      "source": [
        "<a href=\"https://colab.research.google.com/github/logsmay/inter-probe/blob/main/stats-101/Statistics_101_%26_Probability_Primer.ipynb\" target=\"_parent\"><img src=\"https://colab.research.google.com/assets/colab-badge.svg\" alt=\"Open In Colab\"/></a>"
      ]
    },
    {
      "cell_type": "code",
      "execution_count": 242,
      "metadata": {
        "id": "_2JD3rbomwo0"
      },
      "outputs": [],
      "source": [
        "import math\n",
        "\n",
        "import numpy as np\n",
        "import pandas as pd\n",
        "from scipy import stats\n",
        "\n",
        "from scipy.stats import norm\n",
        "\n",
        "from matplotlib import pyplot as plt"
      ]
    },
    {
      "cell_type": "code",
      "source": [
        "# manual calculations\n",
        "\n",
        "#get random list\n",
        "def get_random_list(from_val, to_val, size):\n",
        "  random_list = np.random.randint(from_val, to_val, size=size)\n",
        "  return random_list\n",
        "\n",
        "\n",
        "def get_sorted_list(_list):\n",
        "  _list.sort()\n",
        "  return _list\n",
        "\n",
        "def get_median_range(_list, ignore_sort=False):\n",
        "  n = len(_list)\n",
        "  print(\"incoming list size: \" + str(n))\n",
        "\n",
        "  if ignore_sort == False:\n",
        "    print(\"sorting...\")\n",
        "    _list.sort()\n",
        "  else:\n",
        "    print('ignore sort...')\n",
        "\n",
        "  min = _list[0]\n",
        "  max = _list[n-1]\n",
        "  print(\"n: \" + str(n) + \" ;idx range: (0...\" + str((n-1)) + \")\")\n",
        "  if n%2 == 0:\n",
        "    median_idx1 = int((n/2)-1)\n",
        "    median_idx2 = int(n/2)\n",
        "    print(\"median index (even): \" + str(median_idx1) + \",\" + str(median_idx2))\n",
        "    median = (_list[median_idx1] + _list[median_idx2])/2\n",
        "  else:\n",
        "    median_idx = int(((n+1)/2)-1)\n",
        "    print(\"median index (odd): \" + str(median_idx))\n",
        "    median = _list[median_idx]\n",
        "  return median, min, max\n",
        "\n",
        "\n",
        "def get_mean(_list):\n",
        "  tot = sum(_list)\n",
        "  n = len(_list)\n",
        "  mean = float(\"{0:.5f}\".format(tot / n))\n",
        "  return mean\n",
        "\n",
        "\n",
        "#manual calculation standard deviation\n",
        "def get_sd(_list):\n",
        "  _list.sort()\n",
        "  n = len(_list)\n",
        "  tot = 0\n",
        "  for elem in _list:\n",
        "    tot += elem\n",
        "  mean = float(\"{0:.5f}\".format(tot / n))\n",
        "  sig_sum = 0\n",
        "  for elem in _list:\n",
        "    sig_s1 = pow(elem-mean, 2)\n",
        "    sig_sum += sig_s1\n",
        "  sd = float(\"{0:.5f}\".format(math.sqrt(sig_sum/(n))))\n",
        "  return mean, sd\n",
        "\n",
        "\n",
        "def get_z_score(x, mean, sd):\n",
        "  z_score = float(\"{0:.5f}\".format((x - mean)/sd))\n",
        "  return z_score\n",
        "\n",
        "\n",
        "def get_z_score_from_list(_list):\n",
        "  z_score_arr = []\n",
        "  mean, sd = get_sd(_list)\n",
        "  arr_val_set = set(_list)\n",
        "  for val in arr_val_set: \n",
        "    val_dict = {}\n",
        "    val_dict['val'] = val\n",
        "    val_dict['freq'] = len(_list[_list == val])\n",
        "    val_dict['zscore'] = get_z_score(val, mean, sd)\n",
        "    z_score_arr.append(val_dict)\n",
        "  return z_score_arr\n"
      ],
      "metadata": {
        "id": "5YGTdkj3nkIc"
      },
      "execution_count": 271,
      "outputs": []
    },
    {
      "cell_type": "code",
      "source": [
        "# configurations\n",
        "\n",
        "from_val = 0\n",
        "to_val = 100\n",
        "size = 50\n",
        "\n",
        "r_list = get_random_list(from_val, to_val, size)\n",
        "print(r_list)\n"
      ],
      "metadata": {
        "colab": {
          "base_uri": "https://localhost:8080/"
        },
        "id": "ReBauNTSTuuR",
        "outputId": "947c1bb9-0786-4155-da0d-03238d384f72"
      },
      "execution_count": 272,
      "outputs": [
        {
          "output_type": "stream",
          "name": "stdout",
          "text": [
            "[45 99 28 24 50 13 39 60 39 57 21 21 73 28 81 97 61 39 37 47 41 74 94 74\n",
            " 42 29 11 34 77 83 72 67 76 67 16 31 97 12 56 80 32 85 54 56 83 17 35 13\n",
            " 85  1]\n"
          ]
        }
      ]
    },
    {
      "cell_type": "code",
      "source": [
        "random_list = np.random.randint(from_val, to_val, size=size)\n",
        "print(\"unsorted list\")\n",
        "print(random_list)\n",
        "\n",
        "#sort list\n",
        "random_list.sort()\n",
        "print(\"sorted list\")\n",
        "print(random_list)\n",
        "\n",
        "# calculate median, mode, range, mean  \n",
        "max = np.max(random_list)\n",
        "min = np.min(random_list)\n",
        "\n",
        "#mean x̄\n",
        "mean = np.mean(random_list)\n",
        "print('###> mean x̄ <###')\n",
        "print(mean)\n",
        "\n",
        "#median x̃\n",
        "median = np.median(random_list)\n",
        "print(\"###> median x̃ <###\")\n",
        "print(median)\n",
        "\n",
        "#mode mo\n",
        "mode, mo_count = stats.mode(random_list)\n",
        "print(\"###> mode Mo <###\")\n",
        "print(\"smallest mode: \" + str(mode[0]))\n",
        "print(\"count mode: \" + str(mo_count[0]))\n",
        "\n",
        "#range\n",
        "range = max-min\n",
        "print(\"###> range <###\")\n",
        "print(range)\n",
        "\n",
        "#standard deviation\n",
        "std = float(\"{0:.5f}\".format(np.std(random_list)))\n",
        "print(\"###> std deviation σ <###\")\n",
        "print(std)\n",
        "\n",
        "#zscore\n",
        "zscore = stats.zscore(random_list)\n",
        "print(\"###> zscore z <###\")\n",
        "print(zscore)"
      ],
      "metadata": {
        "colab": {
          "base_uri": "https://localhost:8080/"
        },
        "id": "UaX2QIbATmo1",
        "outputId": "1db9838e-3018-4660-e301-2968dc9014cc"
      },
      "execution_count": 276,
      "outputs": [
        {
          "output_type": "stream",
          "name": "stdout",
          "text": [
            "unsorted list\n",
            "[45 47 18 84 70 36 44 20 21 67 39  3 58 84 23 96 96 84 30 71 33 76 95 84\n",
            " 40 56 68 91 72 57 90 76 38 17 55 85 48 38 98  5 57 72  6 43 83 37 33 95\n",
            " 79 69]\n",
            "sorted list\n",
            "[ 3  5  6 17 18 20 21 23 30 33 33 36 37 38 38 39 40 43 44 45 47 48 55 56\n",
            " 57 57 58 67 68 69 70 71 72 72 76 76 79 83 84 84 84 84 85 90 91 95 95 96\n",
            " 96 98]\n",
            "###> mean x̄ <###\n",
            "56.64\n",
            "###> median x̃ <###\n",
            "57.0\n",
            "###> mode Mo <###\n",
            "smallest mode: 84\n",
            "count mode: 4\n",
            "###> range <###\n",
            "95\n",
            "###> std deviation σ <###\n",
            "27.0287\n",
            "###> zscore z <###\n",
            "[-1.98455746 -1.91056203 -1.87356431 -1.46658944 -1.42959173 -1.3555963\n",
            " -1.31859858 -1.24460315 -0.98561914 -0.87462599 -0.87462599 -0.76363285\n",
            " -0.72663513 -0.68963742 -0.68963742 -0.6526397  -0.61564199 -0.50464884\n",
            " -0.46765112 -0.43065341 -0.35665798 -0.31966026 -0.06067625 -0.02367854\n",
            "  0.01331918  0.01331918  0.05031689  0.38329633  0.42029405  0.45729176\n",
            "  0.49428948  0.53128719  0.56828491  0.56828491  0.71627577  0.71627577\n",
            "  0.82726892  0.97525978  1.0122575   1.0122575   1.0122575   1.0122575\n",
            "  1.04925521  1.23424379  1.2712415   1.41923237  1.41923237  1.45623008\n",
            "  1.45623008  1.53022551]\n"
          ]
        }
      ]
    },
    {
      "cell_type": "code",
      "source": [
        "# manual functions & calculations \n",
        "r_list = random_list\n",
        "sorted_list = get_sorted_list(r_list)\n",
        "median, min, max = get_median_range(sorted_list, ignore_sort=True)\n",
        "mean, sd = get_sd(r_list)\n",
        "print(\"median, min, max: \" + str((median, min, max)))\n",
        "print(\"mean, sd: \" + str((mean, sd)))\n",
        "print(get_z_score(0, mean, sd))\n",
        "get_z_score_from_list(r_list)"
      ],
      "metadata": {
        "colab": {
          "base_uri": "https://localhost:8080/"
        },
        "id": "egNKv5KH7rHE",
        "outputId": "b31d48d4-6991-4f97-88cc-03adea3225dc"
      },
      "execution_count": 277,
      "outputs": [
        {
          "output_type": "stream",
          "name": "stdout",
          "text": [
            "incoming list size: 50\n",
            "ignore sort...\n",
            "n: 50 ;idx range: (0...49)\n",
            "median index (even): 24,25\n",
            "median, min, max: (57.0, 3, 98)\n",
            "mean, sd: (56.64, 27.0287)\n",
            "-2.09555\n"
          ]
        },
        {
          "output_type": "execute_result",
          "data": {
            "text/plain": [
              "[{'freq': 1, 'val': 3, 'zscore': -1.98456},\n",
              " {'freq': 1, 'val': 5, 'zscore': -1.91056},\n",
              " {'freq': 1, 'val': 6, 'zscore': -1.87356},\n",
              " {'freq': 1, 'val': 17, 'zscore': -1.46659},\n",
              " {'freq': 1, 'val': 18, 'zscore': -1.42959},\n",
              " {'freq': 1, 'val': 20, 'zscore': -1.3556},\n",
              " {'freq': 1, 'val': 21, 'zscore': -1.3186},\n",
              " {'freq': 1, 'val': 23, 'zscore': -1.2446},\n",
              " {'freq': 1, 'val': 30, 'zscore': -0.98562},\n",
              " {'freq': 2, 'val': 33, 'zscore': -0.87463},\n",
              " {'freq': 1, 'val': 36, 'zscore': -0.76363},\n",
              " {'freq': 1, 'val': 37, 'zscore': -0.72664},\n",
              " {'freq': 2, 'val': 38, 'zscore': -0.68964},\n",
              " {'freq': 1, 'val': 39, 'zscore': -0.65264},\n",
              " {'freq': 1, 'val': 40, 'zscore': -0.61564},\n",
              " {'freq': 1, 'val': 43, 'zscore': -0.50465},\n",
              " {'freq': 1, 'val': 44, 'zscore': -0.46765},\n",
              " {'freq': 1, 'val': 45, 'zscore': -0.43065},\n",
              " {'freq': 1, 'val': 47, 'zscore': -0.35666},\n",
              " {'freq': 1, 'val': 48, 'zscore': -0.31966},\n",
              " {'freq': 1, 'val': 55, 'zscore': -0.06068},\n",
              " {'freq': 1, 'val': 56, 'zscore': -0.02368},\n",
              " {'freq': 2, 'val': 57, 'zscore': 0.01332},\n",
              " {'freq': 1, 'val': 58, 'zscore': 0.05032},\n",
              " {'freq': 1, 'val': 67, 'zscore': 0.3833},\n",
              " {'freq': 1, 'val': 68, 'zscore': 0.42029},\n",
              " {'freq': 1, 'val': 69, 'zscore': 0.45729},\n",
              " {'freq': 1, 'val': 70, 'zscore': 0.49429},\n",
              " {'freq': 1, 'val': 71, 'zscore': 0.53129},\n",
              " {'freq': 2, 'val': 72, 'zscore': 0.56828},\n",
              " {'freq': 2, 'val': 76, 'zscore': 0.71628},\n",
              " {'freq': 1, 'val': 79, 'zscore': 0.82727},\n",
              " {'freq': 1, 'val': 83, 'zscore': 0.97526},\n",
              " {'freq': 4, 'val': 84, 'zscore': 1.01226},\n",
              " {'freq': 1, 'val': 85, 'zscore': 1.04926},\n",
              " {'freq': 1, 'val': 90, 'zscore': 1.23424},\n",
              " {'freq': 1, 'val': 91, 'zscore': 1.27124},\n",
              " {'freq': 2, 'val': 95, 'zscore': 1.41923},\n",
              " {'freq': 2, 'val': 96, 'zscore': 1.45623},\n",
              " {'freq': 1, 'val': 98, 'zscore': 1.53023}]"
            ]
          },
          "metadata": {},
          "execution_count": 277
        }
      ]
    },
    {
      "cell_type": "code",
      "source": [
        "# empirical rule\n",
        "mu = 0\n",
        "sigma = 1\n",
        "x = np.linspace(mu - (3*sigma), mu + (3*sigma), 100)\n",
        "plt.plot(x, stats.norm.pdf(x, mu, sigma))\n",
        "plt.show()"
      ],
      "metadata": {
        "colab": {
          "base_uri": "https://localhost:8080/",
          "height": 265
        },
        "id": "YVJHonv_JGDD",
        "outputId": "c7d3163c-2971-4a89-c816-afc47a35d7f4"
      },
      "execution_count": 269,
      "outputs": [
        {
          "output_type": "display_data",
          "data": {
            "image/png": "[encoded data removed]",
            "text/plain": [
              "<Figure size 432x288 with 1 Axes>"
            ]
          },
          "metadata": {
            "needs_background": "light"
          }
        }
      ]
    },
    {
      "cell_type": "code",
      "source": [
        ""
      ],
      "metadata": {
        "id": "FbQ8M6ilaZ2I"
      },
      "execution_count": null,
      "outputs": []
    }
  ]
}